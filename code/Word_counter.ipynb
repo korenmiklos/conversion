{
 "cells": [
  {
   "cell_type": "code",
   "execution_count": 1,
   "metadata": {},
   "outputs": [],
   "source": [
    "test_data = '''This ebook is made available at no cost and with very few\n",
    "restrictions. These restrictions apply only if (1) you make\n",
    "a change in the ebook (other than alteration for different\n",
    "display devices), or (2) you are making commercial use of\n",
    "the ebook. If either of these conditions applies, please\n",
    "check gutenberg.ca/links/licence.html before proceeding.'''"
   ]
  },
  {
   "cell_type": "code",
   "execution_count": 2,
   "metadata": {},
   "outputs": [
    {
     "data": {
      "text/plain": [
       "'This ebook is made available at no cost and with very few\\nrestrictions. These restrictions apply only if (1) you make\\na change in the ebook (other than alteration for different\\ndisplay devices), or (2) you are making commercial use of\\nthe ebook. If either of these conditions applies, please\\ncheck gutenberg.ca/links/licence.html before proceeding.'"
      ]
     },
     "execution_count": 2,
     "metadata": {},
     "output_type": "execute_result"
    }
   ],
   "source": [
    "test_data"
   ]
  },
  {
   "cell_type": "code",
   "execution_count": 3,
   "metadata": {},
   "outputs": [],
   "source": [
    "def words(text):\n",
    "    list_of_words = []\n",
    "    for word in text.split():\n",
    "        list_of_words.append(word.lower())\n",
    "    return list_of_words"
   ]
  },
  {
   "cell_type": "markdown",
   "metadata": {},
   "source": [
    "(A shorter way to write this is with \"list comprehension\".)"
   ]
  },
  {
   "cell_type": "code",
   "execution_count": 4,
   "metadata": {},
   "outputs": [],
   "source": [
    "list_of_words = words(test_data)"
   ]
  },
  {
   "cell_type": "code",
   "execution_count": 5,
   "metadata": {},
   "outputs": [],
   "source": [
    "counter = {'this': 3, 'of': 4, 'conditions': 1}"
   ]
  },
  {
   "cell_type": "code",
   "execution_count": 26,
   "metadata": {},
   "outputs": [],
   "source": [
    "def word_count(words):\n",
    "    counter = {}\n",
    "    for word in words:\n",
    "        if word in counter:\n",
    "            # print('Increment:', word)\n",
    "            counter[word] = counter[word] + 1\n",
    "        else:\n",
    "            # print('First time:', word)\n",
    "            counter[word] = 1\n",
    "        # print(counter)\n",
    "    return counter"
   ]
  },
  {
   "cell_type": "code",
   "execution_count": 8,
   "metadata": {},
   "outputs": [
    {
     "name": "stdout",
     "output_type": "stream",
     "text": [
      "First time: this\n",
      "{'this': 1}\n",
      "First time: ebook\n",
      "{'this': 1, 'ebook': 1}\n",
      "First time: is\n",
      "{'this': 1, 'ebook': 1, 'is': 1}\n",
      "First time: made\n",
      "{'this': 1, 'ebook': 1, 'is': 1, 'made': 1}\n",
      "First time: available\n",
      "{'this': 1, 'ebook': 1, 'is': 1, 'made': 1, 'available': 1}\n",
      "First time: at\n",
      "{'this': 1, 'ebook': 1, 'is': 1, 'made': 1, 'available': 1, 'at': 1}\n",
      "First time: no\n",
      "{'this': 1, 'ebook': 1, 'is': 1, 'made': 1, 'available': 1, 'at': 1, 'no': 1}\n",
      "First time: cost\n",
      "{'this': 1, 'ebook': 1, 'is': 1, 'made': 1, 'available': 1, 'at': 1, 'no': 1, 'cost': 1}\n",
      "First time: and\n",
      "{'this': 1, 'ebook': 1, 'is': 1, 'made': 1, 'available': 1, 'at': 1, 'no': 1, 'cost': 1, 'and': 1}\n",
      "First time: with\n",
      "{'this': 1, 'ebook': 1, 'is': 1, 'made': 1, 'available': 1, 'at': 1, 'no': 1, 'cost': 1, 'and': 1, 'with': 1}\n",
      "First time: very\n",
      "{'this': 1, 'ebook': 1, 'is': 1, 'made': 1, 'available': 1, 'at': 1, 'no': 1, 'cost': 1, 'and': 1, 'with': 1, 'very': 1}\n",
      "First time: few\n",
      "{'this': 1, 'ebook': 1, 'is': 1, 'made': 1, 'available': 1, 'at': 1, 'no': 1, 'cost': 1, 'and': 1, 'with': 1, 'very': 1, 'few': 1}\n",
      "First time: restrictions.\n",
      "{'this': 1, 'ebook': 1, 'is': 1, 'made': 1, 'available': 1, 'at': 1, 'no': 1, 'cost': 1, 'and': 1, 'with': 1, 'very': 1, 'few': 1, 'restrictions.': 1}\n",
      "First time: these\n",
      "{'this': 1, 'ebook': 1, 'is': 1, 'made': 1, 'available': 1, 'at': 1, 'no': 1, 'cost': 1, 'and': 1, 'with': 1, 'very': 1, 'few': 1, 'restrictions.': 1, 'these': 1}\n",
      "First time: restrictions\n",
      "{'this': 1, 'ebook': 1, 'is': 1, 'made': 1, 'available': 1, 'at': 1, 'no': 1, 'cost': 1, 'and': 1, 'with': 1, 'very': 1, 'few': 1, 'restrictions.': 1, 'these': 1, 'restrictions': 1}\n",
      "First time: apply\n",
      "{'this': 1, 'ebook': 1, 'is': 1, 'made': 1, 'available': 1, 'at': 1, 'no': 1, 'cost': 1, 'and': 1, 'with': 1, 'very': 1, 'few': 1, 'restrictions.': 1, 'these': 1, 'restrictions': 1, 'apply': 1}\n",
      "First time: only\n",
      "{'this': 1, 'ebook': 1, 'is': 1, 'made': 1, 'available': 1, 'at': 1, 'no': 1, 'cost': 1, 'and': 1, 'with': 1, 'very': 1, 'few': 1, 'restrictions.': 1, 'these': 1, 'restrictions': 1, 'apply': 1, 'only': 1}\n",
      "First time: if\n",
      "{'this': 1, 'ebook': 1, 'is': 1, 'made': 1, 'available': 1, 'at': 1, 'no': 1, 'cost': 1, 'and': 1, 'with': 1, 'very': 1, 'few': 1, 'restrictions.': 1, 'these': 1, 'restrictions': 1, 'apply': 1, 'only': 1, 'if': 1}\n",
      "First time: (1)\n",
      "{'this': 1, 'ebook': 1, 'is': 1, 'made': 1, 'available': 1, 'at': 1, 'no': 1, 'cost': 1, 'and': 1, 'with': 1, 'very': 1, 'few': 1, 'restrictions.': 1, 'these': 1, 'restrictions': 1, 'apply': 1, 'only': 1, 'if': 1, '(1)': 1}\n",
      "First time: you\n",
      "{'this': 1, 'ebook': 1, 'is': 1, 'made': 1, 'available': 1, 'at': 1, 'no': 1, 'cost': 1, 'and': 1, 'with': 1, 'very': 1, 'few': 1, 'restrictions.': 1, 'these': 1, 'restrictions': 1, 'apply': 1, 'only': 1, 'if': 1, '(1)': 1, 'you': 1}\n",
      "First time: make\n",
      "{'this': 1, 'ebook': 1, 'is': 1, 'made': 1, 'available': 1, 'at': 1, 'no': 1, 'cost': 1, 'and': 1, 'with': 1, 'very': 1, 'few': 1, 'restrictions.': 1, 'these': 1, 'restrictions': 1, 'apply': 1, 'only': 1, 'if': 1, '(1)': 1, 'you': 1, 'make': 1}\n",
      "First time: a\n",
      "{'this': 1, 'ebook': 1, 'is': 1, 'made': 1, 'available': 1, 'at': 1, 'no': 1, 'cost': 1, 'and': 1, 'with': 1, 'very': 1, 'few': 1, 'restrictions.': 1, 'these': 1, 'restrictions': 1, 'apply': 1, 'only': 1, 'if': 1, '(1)': 1, 'you': 1, 'make': 1, 'a': 1}\n",
      "First time: change\n",
      "{'this': 1, 'ebook': 1, 'is': 1, 'made': 1, 'available': 1, 'at': 1, 'no': 1, 'cost': 1, 'and': 1, 'with': 1, 'very': 1, 'few': 1, 'restrictions.': 1, 'these': 1, 'restrictions': 1, 'apply': 1, 'only': 1, 'if': 1, '(1)': 1, 'you': 1, 'make': 1, 'a': 1, 'change': 1}\n",
      "First time: in\n",
      "{'this': 1, 'ebook': 1, 'is': 1, 'made': 1, 'available': 1, 'at': 1, 'no': 1, 'cost': 1, 'and': 1, 'with': 1, 'very': 1, 'few': 1, 'restrictions.': 1, 'these': 1, 'restrictions': 1, 'apply': 1, 'only': 1, 'if': 1, '(1)': 1, 'you': 1, 'make': 1, 'a': 1, 'change': 1, 'in': 1}\n",
      "First time: the\n",
      "{'this': 1, 'ebook': 1, 'is': 1, 'made': 1, 'available': 1, 'at': 1, 'no': 1, 'cost': 1, 'and': 1, 'with': 1, 'very': 1, 'few': 1, 'restrictions.': 1, 'these': 1, 'restrictions': 1, 'apply': 1, 'only': 1, 'if': 1, '(1)': 1, 'you': 1, 'make': 1, 'a': 1, 'change': 1, 'in': 1, 'the': 1}\n",
      "Increment: ebook\n",
      "{'this': 1, 'ebook': 2, 'is': 1, 'made': 1, 'available': 1, 'at': 1, 'no': 1, 'cost': 1, 'and': 1, 'with': 1, 'very': 1, 'few': 1, 'restrictions.': 1, 'these': 1, 'restrictions': 1, 'apply': 1, 'only': 1, 'if': 1, '(1)': 1, 'you': 1, 'make': 1, 'a': 1, 'change': 1, 'in': 1, 'the': 1}\n",
      "First time: (other\n",
      "{'this': 1, 'ebook': 2, 'is': 1, 'made': 1, 'available': 1, 'at': 1, 'no': 1, 'cost': 1, 'and': 1, 'with': 1, 'very': 1, 'few': 1, 'restrictions.': 1, 'these': 1, 'restrictions': 1, 'apply': 1, 'only': 1, 'if': 1, '(1)': 1, 'you': 1, 'make': 1, 'a': 1, 'change': 1, 'in': 1, 'the': 1, '(other': 1}\n",
      "First time: than\n",
      "{'this': 1, 'ebook': 2, 'is': 1, 'made': 1, 'available': 1, 'at': 1, 'no': 1, 'cost': 1, 'and': 1, 'with': 1, 'very': 1, 'few': 1, 'restrictions.': 1, 'these': 1, 'restrictions': 1, 'apply': 1, 'only': 1, 'if': 1, '(1)': 1, 'you': 1, 'make': 1, 'a': 1, 'change': 1, 'in': 1, 'the': 1, '(other': 1, 'than': 1}\n",
      "First time: alteration\n",
      "{'this': 1, 'ebook': 2, 'is': 1, 'made': 1, 'available': 1, 'at': 1, 'no': 1, 'cost': 1, 'and': 1, 'with': 1, 'very': 1, 'few': 1, 'restrictions.': 1, 'these': 1, 'restrictions': 1, 'apply': 1, 'only': 1, 'if': 1, '(1)': 1, 'you': 1, 'make': 1, 'a': 1, 'change': 1, 'in': 1, 'the': 1, '(other': 1, 'than': 1, 'alteration': 1}\n",
      "First time: for\n",
      "{'this': 1, 'ebook': 2, 'is': 1, 'made': 1, 'available': 1, 'at': 1, 'no': 1, 'cost': 1, 'and': 1, 'with': 1, 'very': 1, 'few': 1, 'restrictions.': 1, 'these': 1, 'restrictions': 1, 'apply': 1, 'only': 1, 'if': 1, '(1)': 1, 'you': 1, 'make': 1, 'a': 1, 'change': 1, 'in': 1, 'the': 1, '(other': 1, 'than': 1, 'alteration': 1, 'for': 1}\n",
      "First time: different\n",
      "{'this': 1, 'ebook': 2, 'is': 1, 'made': 1, 'available': 1, 'at': 1, 'no': 1, 'cost': 1, 'and': 1, 'with': 1, 'very': 1, 'few': 1, 'restrictions.': 1, 'these': 1, 'restrictions': 1, 'apply': 1, 'only': 1, 'if': 1, '(1)': 1, 'you': 1, 'make': 1, 'a': 1, 'change': 1, 'in': 1, 'the': 1, '(other': 1, 'than': 1, 'alteration': 1, 'for': 1, 'different': 1}\n",
      "First time: display\n",
      "{'this': 1, 'ebook': 2, 'is': 1, 'made': 1, 'available': 1, 'at': 1, 'no': 1, 'cost': 1, 'and': 1, 'with': 1, 'very': 1, 'few': 1, 'restrictions.': 1, 'these': 1, 'restrictions': 1, 'apply': 1, 'only': 1, 'if': 1, '(1)': 1, 'you': 1, 'make': 1, 'a': 1, 'change': 1, 'in': 1, 'the': 1, '(other': 1, 'than': 1, 'alteration': 1, 'for': 1, 'different': 1, 'display': 1}\n",
      "First time: devices),\n",
      "{'this': 1, 'ebook': 2, 'is': 1, 'made': 1, 'available': 1, 'at': 1, 'no': 1, 'cost': 1, 'and': 1, 'with': 1, 'very': 1, 'few': 1, 'restrictions.': 1, 'these': 1, 'restrictions': 1, 'apply': 1, 'only': 1, 'if': 1, '(1)': 1, 'you': 1, 'make': 1, 'a': 1, 'change': 1, 'in': 1, 'the': 1, '(other': 1, 'than': 1, 'alteration': 1, 'for': 1, 'different': 1, 'display': 1, 'devices),': 1}\n",
      "First time: or\n",
      "{'this': 1, 'ebook': 2, 'is': 1, 'made': 1, 'available': 1, 'at': 1, 'no': 1, 'cost': 1, 'and': 1, 'with': 1, 'very': 1, 'few': 1, 'restrictions.': 1, 'these': 1, 'restrictions': 1, 'apply': 1, 'only': 1, 'if': 1, '(1)': 1, 'you': 1, 'make': 1, 'a': 1, 'change': 1, 'in': 1, 'the': 1, '(other': 1, 'than': 1, 'alteration': 1, 'for': 1, 'different': 1, 'display': 1, 'devices),': 1, 'or': 1}\n",
      "First time: (2)\n",
      "{'this': 1, 'ebook': 2, 'is': 1, 'made': 1, 'available': 1, 'at': 1, 'no': 1, 'cost': 1, 'and': 1, 'with': 1, 'very': 1, 'few': 1, 'restrictions.': 1, 'these': 1, 'restrictions': 1, 'apply': 1, 'only': 1, 'if': 1, '(1)': 1, 'you': 1, 'make': 1, 'a': 1, 'change': 1, 'in': 1, 'the': 1, '(other': 1, 'than': 1, 'alteration': 1, 'for': 1, 'different': 1, 'display': 1, 'devices),': 1, 'or': 1, '(2)': 1}\n",
      "Increment: you\n",
      "{'this': 1, 'ebook': 2, 'is': 1, 'made': 1, 'available': 1, 'at': 1, 'no': 1, 'cost': 1, 'and': 1, 'with': 1, 'very': 1, 'few': 1, 'restrictions.': 1, 'these': 1, 'restrictions': 1, 'apply': 1, 'only': 1, 'if': 1, '(1)': 1, 'you': 2, 'make': 1, 'a': 1, 'change': 1, 'in': 1, 'the': 1, '(other': 1, 'than': 1, 'alteration': 1, 'for': 1, 'different': 1, 'display': 1, 'devices),': 1, 'or': 1, '(2)': 1}\n",
      "First time: are\n",
      "{'this': 1, 'ebook': 2, 'is': 1, 'made': 1, 'available': 1, 'at': 1, 'no': 1, 'cost': 1, 'and': 1, 'with': 1, 'very': 1, 'few': 1, 'restrictions.': 1, 'these': 1, 'restrictions': 1, 'apply': 1, 'only': 1, 'if': 1, '(1)': 1, 'you': 2, 'make': 1, 'a': 1, 'change': 1, 'in': 1, 'the': 1, '(other': 1, 'than': 1, 'alteration': 1, 'for': 1, 'different': 1, 'display': 1, 'devices),': 1, 'or': 1, '(2)': 1, 'are': 1}\n",
      "First time: making\n",
      "{'this': 1, 'ebook': 2, 'is': 1, 'made': 1, 'available': 1, 'at': 1, 'no': 1, 'cost': 1, 'and': 1, 'with': 1, 'very': 1, 'few': 1, 'restrictions.': 1, 'these': 1, 'restrictions': 1, 'apply': 1, 'only': 1, 'if': 1, '(1)': 1, 'you': 2, 'make': 1, 'a': 1, 'change': 1, 'in': 1, 'the': 1, '(other': 1, 'than': 1, 'alteration': 1, 'for': 1, 'different': 1, 'display': 1, 'devices),': 1, 'or': 1, '(2)': 1, 'are': 1, 'making': 1}\n",
      "First time: commercial\n",
      "{'this': 1, 'ebook': 2, 'is': 1, 'made': 1, 'available': 1, 'at': 1, 'no': 1, 'cost': 1, 'and': 1, 'with': 1, 'very': 1, 'few': 1, 'restrictions.': 1, 'these': 1, 'restrictions': 1, 'apply': 1, 'only': 1, 'if': 1, '(1)': 1, 'you': 2, 'make': 1, 'a': 1, 'change': 1, 'in': 1, 'the': 1, '(other': 1, 'than': 1, 'alteration': 1, 'for': 1, 'different': 1, 'display': 1, 'devices),': 1, 'or': 1, '(2)': 1, 'are': 1, 'making': 1, 'commercial': 1}\n",
      "First time: use\n",
      "{'this': 1, 'ebook': 2, 'is': 1, 'made': 1, 'available': 1, 'at': 1, 'no': 1, 'cost': 1, 'and': 1, 'with': 1, 'very': 1, 'few': 1, 'restrictions.': 1, 'these': 1, 'restrictions': 1, 'apply': 1, 'only': 1, 'if': 1, '(1)': 1, 'you': 2, 'make': 1, 'a': 1, 'change': 1, 'in': 1, 'the': 1, '(other': 1, 'than': 1, 'alteration': 1, 'for': 1, 'different': 1, 'display': 1, 'devices),': 1, 'or': 1, '(2)': 1, 'are': 1, 'making': 1, 'commercial': 1, 'use': 1}\n",
      "First time: of\n",
      "{'this': 1, 'ebook': 2, 'is': 1, 'made': 1, 'available': 1, 'at': 1, 'no': 1, 'cost': 1, 'and': 1, 'with': 1, 'very': 1, 'few': 1, 'restrictions.': 1, 'these': 1, 'restrictions': 1, 'apply': 1, 'only': 1, 'if': 1, '(1)': 1, 'you': 2, 'make': 1, 'a': 1, 'change': 1, 'in': 1, 'the': 1, '(other': 1, 'than': 1, 'alteration': 1, 'for': 1, 'different': 1, 'display': 1, 'devices),': 1, 'or': 1, '(2)': 1, 'are': 1, 'making': 1, 'commercial': 1, 'use': 1, 'of': 1}\n",
      "Increment: the\n",
      "{'this': 1, 'ebook': 2, 'is': 1, 'made': 1, 'available': 1, 'at': 1, 'no': 1, 'cost': 1, 'and': 1, 'with': 1, 'very': 1, 'few': 1, 'restrictions.': 1, 'these': 1, 'restrictions': 1, 'apply': 1, 'only': 1, 'if': 1, '(1)': 1, 'you': 2, 'make': 1, 'a': 1, 'change': 1, 'in': 1, 'the': 2, '(other': 1, 'than': 1, 'alteration': 1, 'for': 1, 'different': 1, 'display': 1, 'devices),': 1, 'or': 1, '(2)': 1, 'are': 1, 'making': 1, 'commercial': 1, 'use': 1, 'of': 1}\n",
      "First time: ebook.\n",
      "{'this': 1, 'ebook': 2, 'is': 1, 'made': 1, 'available': 1, 'at': 1, 'no': 1, 'cost': 1, 'and': 1, 'with': 1, 'very': 1, 'few': 1, 'restrictions.': 1, 'these': 1, 'restrictions': 1, 'apply': 1, 'only': 1, 'if': 1, '(1)': 1, 'you': 2, 'make': 1, 'a': 1, 'change': 1, 'in': 1, 'the': 2, '(other': 1, 'than': 1, 'alteration': 1, 'for': 1, 'different': 1, 'display': 1, 'devices),': 1, 'or': 1, '(2)': 1, 'are': 1, 'making': 1, 'commercial': 1, 'use': 1, 'of': 1, 'ebook.': 1}\n",
      "Increment: if\n",
      "{'this': 1, 'ebook': 2, 'is': 1, 'made': 1, 'available': 1, 'at': 1, 'no': 1, 'cost': 1, 'and': 1, 'with': 1, 'very': 1, 'few': 1, 'restrictions.': 1, 'these': 1, 'restrictions': 1, 'apply': 1, 'only': 1, 'if': 2, '(1)': 1, 'you': 2, 'make': 1, 'a': 1, 'change': 1, 'in': 1, 'the': 2, '(other': 1, 'than': 1, 'alteration': 1, 'for': 1, 'different': 1, 'display': 1, 'devices),': 1, 'or': 1, '(2)': 1, 'are': 1, 'making': 1, 'commercial': 1, 'use': 1, 'of': 1, 'ebook.': 1}\n",
      "First time: either\n",
      "{'this': 1, 'ebook': 2, 'is': 1, 'made': 1, 'available': 1, 'at': 1, 'no': 1, 'cost': 1, 'and': 1, 'with': 1, 'very': 1, 'few': 1, 'restrictions.': 1, 'these': 1, 'restrictions': 1, 'apply': 1, 'only': 1, 'if': 2, '(1)': 1, 'you': 2, 'make': 1, 'a': 1, 'change': 1, 'in': 1, 'the': 2, '(other': 1, 'than': 1, 'alteration': 1, 'for': 1, 'different': 1, 'display': 1, 'devices),': 1, 'or': 1, '(2)': 1, 'are': 1, 'making': 1, 'commercial': 1, 'use': 1, 'of': 1, 'ebook.': 1, 'either': 1}\n",
      "Increment: of\n",
      "{'this': 1, 'ebook': 2, 'is': 1, 'made': 1, 'available': 1, 'at': 1, 'no': 1, 'cost': 1, 'and': 1, 'with': 1, 'very': 1, 'few': 1, 'restrictions.': 1, 'these': 1, 'restrictions': 1, 'apply': 1, 'only': 1, 'if': 2, '(1)': 1, 'you': 2, 'make': 1, 'a': 1, 'change': 1, 'in': 1, 'the': 2, '(other': 1, 'than': 1, 'alteration': 1, 'for': 1, 'different': 1, 'display': 1, 'devices),': 1, 'or': 1, '(2)': 1, 'are': 1, 'making': 1, 'commercial': 1, 'use': 1, 'of': 2, 'ebook.': 1, 'either': 1}\n",
      "Increment: these\n",
      "{'this': 1, 'ebook': 2, 'is': 1, 'made': 1, 'available': 1, 'at': 1, 'no': 1, 'cost': 1, 'and': 1, 'with': 1, 'very': 1, 'few': 1, 'restrictions.': 1, 'these': 2, 'restrictions': 1, 'apply': 1, 'only': 1, 'if': 2, '(1)': 1, 'you': 2, 'make': 1, 'a': 1, 'change': 1, 'in': 1, 'the': 2, '(other': 1, 'than': 1, 'alteration': 1, 'for': 1, 'different': 1, 'display': 1, 'devices),': 1, 'or': 1, '(2)': 1, 'are': 1, 'making': 1, 'commercial': 1, 'use': 1, 'of': 2, 'ebook.': 1, 'either': 1}\n",
      "First time: conditions\n",
      "{'this': 1, 'ebook': 2, 'is': 1, 'made': 1, 'available': 1, 'at': 1, 'no': 1, 'cost': 1, 'and': 1, 'with': 1, 'very': 1, 'few': 1, 'restrictions.': 1, 'these': 2, 'restrictions': 1, 'apply': 1, 'only': 1, 'if': 2, '(1)': 1, 'you': 2, 'make': 1, 'a': 1, 'change': 1, 'in': 1, 'the': 2, '(other': 1, 'than': 1, 'alteration': 1, 'for': 1, 'different': 1, 'display': 1, 'devices),': 1, 'or': 1, '(2)': 1, 'are': 1, 'making': 1, 'commercial': 1, 'use': 1, 'of': 2, 'ebook.': 1, 'either': 1, 'conditions': 1}\n",
      "First time: applies,\n",
      "{'this': 1, 'ebook': 2, 'is': 1, 'made': 1, 'available': 1, 'at': 1, 'no': 1, 'cost': 1, 'and': 1, 'with': 1, 'very': 1, 'few': 1, 'restrictions.': 1, 'these': 2, 'restrictions': 1, 'apply': 1, 'only': 1, 'if': 2, '(1)': 1, 'you': 2, 'make': 1, 'a': 1, 'change': 1, 'in': 1, 'the': 2, '(other': 1, 'than': 1, 'alteration': 1, 'for': 1, 'different': 1, 'display': 1, 'devices),': 1, 'or': 1, '(2)': 1, 'are': 1, 'making': 1, 'commercial': 1, 'use': 1, 'of': 2, 'ebook.': 1, 'either': 1, 'conditions': 1, 'applies,': 1}\n",
      "First time: please\n",
      "{'this': 1, 'ebook': 2, 'is': 1, 'made': 1, 'available': 1, 'at': 1, 'no': 1, 'cost': 1, 'and': 1, 'with': 1, 'very': 1, 'few': 1, 'restrictions.': 1, 'these': 2, 'restrictions': 1, 'apply': 1, 'only': 1, 'if': 2, '(1)': 1, 'you': 2, 'make': 1, 'a': 1, 'change': 1, 'in': 1, 'the': 2, '(other': 1, 'than': 1, 'alteration': 1, 'for': 1, 'different': 1, 'display': 1, 'devices),': 1, 'or': 1, '(2)': 1, 'are': 1, 'making': 1, 'commercial': 1, 'use': 1, 'of': 2, 'ebook.': 1, 'either': 1, 'conditions': 1, 'applies,': 1, 'please': 1}\n",
      "First time: check\n",
      "{'this': 1, 'ebook': 2, 'is': 1, 'made': 1, 'available': 1, 'at': 1, 'no': 1, 'cost': 1, 'and': 1, 'with': 1, 'very': 1, 'few': 1, 'restrictions.': 1, 'these': 2, 'restrictions': 1, 'apply': 1, 'only': 1, 'if': 2, '(1)': 1, 'you': 2, 'make': 1, 'a': 1, 'change': 1, 'in': 1, 'the': 2, '(other': 1, 'than': 1, 'alteration': 1, 'for': 1, 'different': 1, 'display': 1, 'devices),': 1, 'or': 1, '(2)': 1, 'are': 1, 'making': 1, 'commercial': 1, 'use': 1, 'of': 2, 'ebook.': 1, 'either': 1, 'conditions': 1, 'applies,': 1, 'please': 1, 'check': 1}\n",
      "First time: gutenberg.ca/links/licence.html\n",
      "{'this': 1, 'ebook': 2, 'is': 1, 'made': 1, 'available': 1, 'at': 1, 'no': 1, 'cost': 1, 'and': 1, 'with': 1, 'very': 1, 'few': 1, 'restrictions.': 1, 'these': 2, 'restrictions': 1, 'apply': 1, 'only': 1, 'if': 2, '(1)': 1, 'you': 2, 'make': 1, 'a': 1, 'change': 1, 'in': 1, 'the': 2, '(other': 1, 'than': 1, 'alteration': 1, 'for': 1, 'different': 1, 'display': 1, 'devices),': 1, 'or': 1, '(2)': 1, 'are': 1, 'making': 1, 'commercial': 1, 'use': 1, 'of': 2, 'ebook.': 1, 'either': 1, 'conditions': 1, 'applies,': 1, 'please': 1, 'check': 1, 'gutenberg.ca/links/licence.html': 1}\n",
      "First time: before\n",
      "{'this': 1, 'ebook': 2, 'is': 1, 'made': 1, 'available': 1, 'at': 1, 'no': 1, 'cost': 1, 'and': 1, 'with': 1, 'very': 1, 'few': 1, 'restrictions.': 1, 'these': 2, 'restrictions': 1, 'apply': 1, 'only': 1, 'if': 2, '(1)': 1, 'you': 2, 'make': 1, 'a': 1, 'change': 1, 'in': 1, 'the': 2, '(other': 1, 'than': 1, 'alteration': 1, 'for': 1, 'different': 1, 'display': 1, 'devices),': 1, 'or': 1, '(2)': 1, 'are': 1, 'making': 1, 'commercial': 1, 'use': 1, 'of': 2, 'ebook.': 1, 'either': 1, 'conditions': 1, 'applies,': 1, 'please': 1, 'check': 1, 'gutenberg.ca/links/licence.html': 1, 'before': 1}\n",
      "First time: proceeding.\n",
      "{'this': 1, 'ebook': 2, 'is': 1, 'made': 1, 'available': 1, 'at': 1, 'no': 1, 'cost': 1, 'and': 1, 'with': 1, 'very': 1, 'few': 1, 'restrictions.': 1, 'these': 2, 'restrictions': 1, 'apply': 1, 'only': 1, 'if': 2, '(1)': 1, 'you': 2, 'make': 1, 'a': 1, 'change': 1, 'in': 1, 'the': 2, '(other': 1, 'than': 1, 'alteration': 1, 'for': 1, 'different': 1, 'display': 1, 'devices),': 1, 'or': 1, '(2)': 1, 'are': 1, 'making': 1, 'commercial': 1, 'use': 1, 'of': 2, 'ebook.': 1, 'either': 1, 'conditions': 1, 'applies,': 1, 'please': 1, 'check': 1, 'gutenberg.ca/links/licence.html': 1, 'before': 1, 'proceeding.': 1}\n"
     ]
    }
   ],
   "source": [
    "dict_of_words = word_count(list_of_words)"
   ]
  },
  {
   "cell_type": "code",
   "execution_count": 9,
   "metadata": {},
   "outputs": [
    {
     "data": {
      "text/plain": [
       "{'this': 1,\n",
       " 'ebook': 2,\n",
       " 'is': 1,\n",
       " 'made': 1,\n",
       " 'available': 1,\n",
       " 'at': 1,\n",
       " 'no': 1,\n",
       " 'cost': 1,\n",
       " 'and': 1,\n",
       " 'with': 1,\n",
       " 'very': 1,\n",
       " 'few': 1,\n",
       " 'restrictions.': 1,\n",
       " 'these': 2,\n",
       " 'restrictions': 1,\n",
       " 'apply': 1,\n",
       " 'only': 1,\n",
       " 'if': 2,\n",
       " '(1)': 1,\n",
       " 'you': 2,\n",
       " 'make': 1,\n",
       " 'a': 1,\n",
       " 'change': 1,\n",
       " 'in': 1,\n",
       " 'the': 2,\n",
       " '(other': 1,\n",
       " 'than': 1,\n",
       " 'alteration': 1,\n",
       " 'for': 1,\n",
       " 'different': 1,\n",
       " 'display': 1,\n",
       " 'devices),': 1,\n",
       " 'or': 1,\n",
       " '(2)': 1,\n",
       " 'are': 1,\n",
       " 'making': 1,\n",
       " 'commercial': 1,\n",
       " 'use': 1,\n",
       " 'of': 2,\n",
       " 'ebook.': 1,\n",
       " 'either': 1,\n",
       " 'conditions': 1,\n",
       " 'applies,': 1,\n",
       " 'please': 1,\n",
       " 'check': 1,\n",
       " 'gutenberg.ca/links/licence.html': 1,\n",
       " 'before': 1,\n",
       " 'proceeding.': 1}"
      ]
     },
     "execution_count": 9,
     "metadata": {},
     "output_type": "execute_result"
    }
   ],
   "source": [
    "dict_of_words"
   ]
  },
  {
   "cell_type": "code",
   "execution_count": 10,
   "metadata": {},
   "outputs": [
    {
     "data": {
      "text/plain": [
       "1"
      ]
     },
     "execution_count": 10,
     "metadata": {},
     "output_type": "execute_result"
    }
   ],
   "source": [
    "dict_of_words['this']"
   ]
  },
  {
   "cell_type": "code",
   "execution_count": 20,
   "metadata": {},
   "outputs": [],
   "source": [
    "def read_text(filename):\n",
    "    with open(filename, 'rt', encoding='latin1') as textfile:\n",
    "        print('I am inside with:')\n",
    "        data = textfile.read()\n",
    "    print('I am now outside, file is closed.')\n",
    "    return data"
   ]
  },
  {
   "cell_type": "code",
   "execution_count": 21,
   "metadata": {},
   "outputs": [
    {
     "name": "stdout",
     "output_type": "stream",
     "text": [
      "I am inside with:\n",
      "I am now outside, file is closed.\n"
     ]
    }
   ],
   "source": [
    "old_man_and_the_sea = read_text('../data/raw/gutenberg/hemingway.txt')"
   ]
  },
  {
   "cell_type": "code",
   "execution_count": 22,
   "metadata": {},
   "outputs": [
    {
     "data": {
      "text/plain": [
       "str"
      ]
     },
     "execution_count": 22,
     "metadata": {},
     "output_type": "execute_result"
    }
   ],
   "source": [
    "type(old_man_and_the_sea)"
   ]
  },
  {
   "cell_type": "code",
   "execution_count": 23,
   "metadata": {},
   "outputs": [],
   "source": [
    "list_of_words = words(old_man_and_the_sea)"
   ]
  },
  {
   "cell_type": "code",
   "execution_count": 24,
   "metadata": {},
   "outputs": [
    {
     "data": {
      "text/plain": [
       "26878"
      ]
     },
     "execution_count": 24,
     "metadata": {},
     "output_type": "execute_result"
    }
   ],
   "source": [
    "len(list_of_words)"
   ]
  },
  {
   "cell_type": "code",
   "execution_count": 27,
   "metadata": {},
   "outputs": [],
   "source": [
    "counter = word_count(list_of_words)"
   ]
  },
  {
   "cell_type": "code",
   "execution_count": 35,
   "metadata": {},
   "outputs": [
    {
     "data": {
      "text/plain": [
       "218"
      ]
     },
     "execution_count": 35,
     "metadata": {},
     "output_type": "execute_result"
    }
   ],
   "source": [
    "counter['man']"
   ]
  },
  {
   "cell_type": "markdown",
   "metadata": {},
   "source": [
    ".csv file looks like:\n",
    "```\n",
    "word,count\n",
    "sea,36\n",
    "man,218\n",
    "```"
   ]
  },
  {
   "cell_type": "code",
   "execution_count": 48,
   "metadata": {},
   "outputs": [],
   "source": [
    "def write_csv(filename, counter):\n",
    "    with open(filename, 'wt') as textfile:\n",
    "        textfile.write('word,count\\n')\n",
    "        for word in counter:\n",
    "            textfile.write(word + ',' + str(counter[word]) + '\\n')\n",
    "    print('Outside the \"with\", file is closed.')"
   ]
  },
  {
   "cell_type": "code",
   "execution_count": 49,
   "metadata": {},
   "outputs": [
    {
     "name": "stdout",
     "output_type": "stream",
     "text": [
      "Outside the \"with\", file is closed.\n"
     ]
    }
   ],
   "source": [
    "write_csv('../data/derived/hemingway.csv', counter)"
   ]
  },
  {
   "cell_type": "code",
   "execution_count": 40,
   "metadata": {},
   "outputs": [
    {
     "data": {
      "text/plain": [
       "'4'"
      ]
     },
     "execution_count": 40,
     "metadata": {},
     "output_type": "execute_result"
    }
   ],
   "source": [
    "str(4)"
   ]
  },
  {
   "cell_type": "code",
   "execution_count": 41,
   "metadata": {},
   "outputs": [
    {
     "data": {
      "text/plain": [
       "4"
      ]
     },
     "execution_count": 41,
     "metadata": {},
     "output_type": "execute_result"
    }
   ],
   "source": [
    "int('4')"
   ]
  },
  {
   "cell_type": "code",
   "execution_count": 12,
   "metadata": {},
   "outputs": [
    {
     "name": "stdout",
     "output_type": "stream",
     "text": [
      "Help on built-in function open in module io:\n",
      "\n",
      "open(file, mode='r', buffering=-1, encoding=None, errors=None, newline=None, closefd=True, opener=None)\n",
      "    Open file and return a stream.  Raise OSError upon failure.\n",
      "    \n",
      "    file is either a text or byte string giving the name (and the path\n",
      "    if the file isn't in the current working directory) of the file to\n",
      "    be opened or an integer file descriptor of the file to be\n",
      "    wrapped. (If a file descriptor is given, it is closed when the\n",
      "    returned I/O object is closed, unless closefd is set to False.)\n",
      "    \n",
      "    mode is an optional string that specifies the mode in which the file\n",
      "    is opened. It defaults to 'r' which means open for reading in text\n",
      "    mode.  Other common values are 'w' for writing (truncating the file if\n",
      "    it already exists), 'x' for creating and writing to a new file, and\n",
      "    'a' for appending (which on some Unix systems, means that all writes\n",
      "    append to the end of the file regardless of the current seek position).\n",
      "    In text mode, if encoding is not specified the encoding used is platform\n",
      "    dependent: locale.getpreferredencoding(False) is called to get the\n",
      "    current locale encoding. (For reading and writing raw bytes use binary\n",
      "    mode and leave encoding unspecified.) The available modes are:\n",
      "    \n",
      "    ========= ===============================================================\n",
      "    Character Meaning\n",
      "    --------- ---------------------------------------------------------------\n",
      "    'r'       open for reading (default)\n",
      "    'w'       open for writing, truncating the file first\n",
      "    'x'       create a new file and open it for writing\n",
      "    'a'       open for writing, appending to the end of the file if it exists\n",
      "    'b'       binary mode\n",
      "    't'       text mode (default)\n",
      "    '+'       open a disk file for updating (reading and writing)\n",
      "    'U'       universal newline mode (deprecated)\n",
      "    ========= ===============================================================\n",
      "    \n",
      "    The default mode is 'rt' (open for reading text). For binary random\n",
      "    access, the mode 'w+b' opens and truncates the file to 0 bytes, while\n",
      "    'r+b' opens the file without truncation. The 'x' mode implies 'w' and\n",
      "    raises an `FileExistsError` if the file already exists.\n",
      "    \n",
      "    Python distinguishes between files opened in binary and text modes,\n",
      "    even when the underlying operating system doesn't. Files opened in\n",
      "    binary mode (appending 'b' to the mode argument) return contents as\n",
      "    bytes objects without any decoding. In text mode (the default, or when\n",
      "    't' is appended to the mode argument), the contents of the file are\n",
      "    returned as strings, the bytes having been first decoded using a\n",
      "    platform-dependent encoding or using the specified encoding if given.\n",
      "    \n",
      "    'U' mode is deprecated and will raise an exception in future versions\n",
      "    of Python.  It has no effect in Python 3.  Use newline to control\n",
      "    universal newlines mode.\n",
      "    \n",
      "    buffering is an optional integer used to set the buffering policy.\n",
      "    Pass 0 to switch buffering off (only allowed in binary mode), 1 to select\n",
      "    line buffering (only usable in text mode), and an integer > 1 to indicate\n",
      "    the size of a fixed-size chunk buffer.  When no buffering argument is\n",
      "    given, the default buffering policy works as follows:\n",
      "    \n",
      "    * Binary files are buffered in fixed-size chunks; the size of the buffer\n",
      "      is chosen using a heuristic trying to determine the underlying device's\n",
      "      \"block size\" and falling back on `io.DEFAULT_BUFFER_SIZE`.\n",
      "      On many systems, the buffer will typically be 4096 or 8192 bytes long.\n",
      "    \n",
      "    * \"Interactive\" text files (files for which isatty() returns True)\n",
      "      use line buffering.  Other text files use the policy described above\n",
      "      for binary files.\n",
      "    \n",
      "    encoding is the name of the encoding used to decode or encode the\n",
      "    file. This should only be used in text mode. The default encoding is\n",
      "    platform dependent, but any encoding supported by Python can be\n",
      "    passed.  See the codecs module for the list of supported encodings.\n",
      "    \n",
      "    errors is an optional string that specifies how encoding errors are to\n",
      "    be handled---this argument should not be used in binary mode. Pass\n",
      "    'strict' to raise a ValueError exception if there is an encoding error\n",
      "    (the default of None has the same effect), or pass 'ignore' to ignore\n",
      "    errors. (Note that ignoring encoding errors can lead to data loss.)\n",
      "    See the documentation for codecs.register or run 'help(codecs.Codec)'\n",
      "    for a list of the permitted encoding error strings.\n",
      "    \n",
      "    newline controls how universal newlines works (it only applies to text\n",
      "    mode). It can be None, '', '\\n', '\\r', and '\\r\\n'.  It works as\n",
      "    follows:\n",
      "    \n",
      "    * On input, if newline is None, universal newlines mode is\n",
      "      enabled. Lines in the input can end in '\\n', '\\r', or '\\r\\n', and\n",
      "      these are translated into '\\n' before being returned to the\n",
      "      caller. If it is '', universal newline mode is enabled, but line\n",
      "      endings are returned to the caller untranslated. If it has any of\n",
      "      the other legal values, input lines are only terminated by the given\n",
      "      string, and the line ending is returned to the caller untranslated.\n",
      "    \n",
      "    * On output, if newline is None, any '\\n' characters written are\n",
      "      translated to the system default line separator, os.linesep. If\n",
      "      newline is '' or '\\n', no translation takes place. If newline is any\n",
      "      of the other legal values, any '\\n' characters written are translated\n",
      "      to the given string.\n",
      "    \n",
      "    If closefd is False, the underlying file descriptor will be kept open\n",
      "    when the file is closed. This does not work when a file name is given\n",
      "    and must be True in that case.\n",
      "    \n",
      "    A custom opener can be used by passing a callable as *opener*. The\n",
      "    underlying file descriptor for the file object is then obtained by\n",
      "    calling *opener* with (*file*, *flags*). *opener* must return an open\n",
      "    file descriptor (passing os.open as *opener* results in functionality\n",
      "    similar to passing None).\n",
      "    \n",
      "    open() returns a file object whose type depends on the mode, and\n",
      "    through which the standard file operations such as reading and writing\n",
      "    are performed. When open() is used to open a file in a text mode ('w',\n",
      "    'r', 'wt', 'rt', etc.), it returns a TextIOWrapper. When used to open\n",
      "    a file in a binary mode, the returned class varies: in read binary\n",
      "    mode, it returns a BufferedReader; in write binary and append binary\n",
      "    modes, it returns a BufferedWriter, and in read/write mode, it returns\n",
      "    a BufferedRandom.\n",
      "    \n",
      "    It is also possible to use a string or bytearray as a file for both\n",
      "    reading and writing. For strings StringIO can be used like a file\n",
      "    opened in a text mode, and for bytes a BytesIO can be used like a file\n",
      "    opened in a binary mode.\n",
      "\n"
     ]
    }
   ],
   "source": [
    "help(open)"
   ]
  },
  {
   "cell_type": "code",
   "execution_count": null,
   "metadata": {},
   "outputs": [],
   "source": []
  }
 ],
 "metadata": {
  "kernelspec": {
   "display_name": "Python 3",
   "language": "python",
   "name": "python3"
  },
  "language_info": {
   "codemirror_mode": {
    "name": "ipython",
    "version": 3
   },
   "file_extension": ".py",
   "mimetype": "text/x-python",
   "name": "python",
   "nbconvert_exporter": "python",
   "pygments_lexer": "ipython3",
   "version": "3.7.2"
  }
 },
 "nbformat": 4,
 "nbformat_minor": 4
}
